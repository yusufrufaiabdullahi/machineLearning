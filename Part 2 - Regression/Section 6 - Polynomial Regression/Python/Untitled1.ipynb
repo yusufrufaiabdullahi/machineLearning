{
 "cells": [
  {
   "cell_type": "code",
   "execution_count": null,
   "id": "5c7533fa",
   "metadata": {},
   "outputs": [],
   "source": [
    "import statsmodels.regression.linear_model as sm\n",
    "# add a column of ones as integer data type\n",
    "x = np.append(arr = np.ones((50, 1)).astype(int), \n",
    "              values = x, axis = 1)\n",
    "# choose a Significance level usually 0.05, if p>0.05\n",
    "#  for the highest values parameter, remove that value\n",
    "x_opt = x[:, [0, 1, 2, 3, 4, 5]]\n",
    "ols = sm.OLS(endog = y, exog = x_opt).fit()\n",
    "ols.summary()"
   ]
  }
 ],
 "metadata": {
  "kernelspec": {
   "display_name": "Python 3 (ipykernel)",
   "language": "python",
   "name": "python3"
  },
  "language_info": {
   "codemirror_mode": {
    "name": "ipython",
    "version": 3
   },
   "file_extension": ".py",
   "mimetype": "text/x-python",
   "name": "python",
   "nbconvert_exporter": "python",
   "pygments_lexer": "ipython3",
   "version": "3.10.6"
  }
 },
 "nbformat": 4,
 "nbformat_minor": 5
}
