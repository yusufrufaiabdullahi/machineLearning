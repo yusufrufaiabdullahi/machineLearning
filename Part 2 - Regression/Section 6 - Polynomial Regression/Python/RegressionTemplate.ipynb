{
 "cells": [
  {
   "cell_type": "code",
   "execution_count": null,
   "id": "df9d3d84",
   "metadata": {},
   "outputs": [],
   "source": [
    "# import the required library\n",
    "\n",
    "import numpy as np\n",
    "import matplotlib.pyplot as plt\n",
    "import pandas as pd"
   ]
  },
  {
   "cell_type": "code",
   "execution_count": null,
   "id": "626e9c3b",
   "metadata": {},
   "outputs": [],
   "source": [
    "# importing the dataset\n",
    "\n",
    "dataset = pd.read_csv('Position_Salaries.csv')\n",
    "X = dataset.iloc[:, 1:2].values\n",
    "y = dataset.iloc[:, 2].values"
   ]
  },
  {
   "cell_type": "code",
   "execution_count": null,
   "id": "3b4056e9",
   "metadata": {},
   "outputs": [],
   "source": [
    "# splitting the datdset into training set and test set\n",
    "\n",
    "# create the regression here"
   ]
  },
  {
   "cell_type": "code",
   "execution_count": null,
   "id": "ab0b51f4",
   "metadata": {},
   "outputs": [],
   "source": [
    "# predicting a new result with polynomial regression\n",
    "\n",
    "y_pred = regressor.predict()"
   ]
  },
  {
   "cell_type": "code",
   "execution_count": null,
   "id": "cc61220d",
   "metadata": {},
   "outputs": [],
   "source": [
    "# Visualising the Regression results\n",
    "\n",
    "plt.scatter(X, y, color = 'red')\n",
    "plt.plot(X_grid, regressor.predict(X), color = 'blue')\n",
    "plt.title('Truth or Bluff (Polynomial Regression)')\n",
    "plt.xlabel('Position level')\n",
    "plt.ylabel('Salary')\n",
    "plt.show()"
   ]
  },
  {
   "cell_type": "code",
   "execution_count": null,
   "id": "2c882bd0",
   "metadata": {},
   "outputs": [],
   "source": [
    "# making the graph more smooth or creating more advance curve\n",
    "\n",
    "X_grid = np.arange(min(X), max(X), 0.1)\n",
    "X_grid = X_grid.reshape(len(X_grid), 1)\n",
    "\n",
    "#X_grid\n",
    "plt.scatter(X, y, color = 'red')\n",
    "plt.plot(X_grid, regressor.predict(X_grid), color = 'blue')\n",
    "plt.title('Truth or Bluff (Polynomial Regression)')\n",
    "plt.xlabel('Position level')\n",
    "plt.ylabel('Salary')\n",
    "plt.show()\n"
   ]
  }
 ],
 "metadata": {
  "kernelspec": {
   "display_name": "Python 3 (ipykernel)",
   "language": "python",
   "name": "python3"
  },
  "language_info": {
   "codemirror_mode": {
    "name": "ipython",
    "version": 3
   },
   "file_extension": ".py",
   "mimetype": "text/x-python",
   "name": "python",
   "nbconvert_exporter": "python",
   "pygments_lexer": "ipython3",
   "version": "3.11.1"
  }
 },
 "nbformat": 4,
 "nbformat_minor": 5
}
